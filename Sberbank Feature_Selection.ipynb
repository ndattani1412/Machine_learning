{
  "nbformat": 4,
  "nbformat_minor": 0,
  "metadata": {
    "colab": {
      "provenance": []
    },
    "kernelspec": {
      "name": "python3",
      "display_name": "Python 3"
    },
    "language_info": {
      "name": "python"
    }
  },
  "cells": [
    {
      "cell_type": "code",
      "execution_count": null,
      "metadata": {
        "id": "Opl067fWWWoS"
      },
      "outputs": [],
      "source": [
        "import pandas as pd\n",
        "from sklearn.ensemble import RandomForestRegressor\n",
        "from sklearn.feature_selection import SelectFromModel\n",
        "from sklearn.model_selection import train_test_split\n",
        "\n",
        "# Load your dataset (replace with your file paths)\n",
        "train_data = pd.read_csv(\"/content/train_sampled.csv\")"
      ]
    },
    {
      "cell_type": "code",
      "source": [
        "# Separate features and target\n",
        "X = train_data.drop(columns=[\"price_doc\", \"id\", \"timestamp\"], errors=\"ignore\")  # Drop target and irrelevant columns\n",
        "y = train_data[\"price_doc\"]\n",
        "\n",
        "# Handle missing values by filling with median for numeric columns only\n",
        "numeric_columns = X.select_dtypes(include=['number']).columns\n",
        "X[numeric_columns] = X[numeric_columns].fillna(X[numeric_columns].median())\n",
        "# Alternatively, you could impute categorical columns with the mode:\n",
        "#categorical_columns = X.select_dtypes(exclude=['number']).columns\n",
        "#X[categorical_columns] = X[categorical_columns].fillna(X[categorical_columns].mode().iloc[0])"
      ],
      "metadata": {
        "id": "eeNa4A52Xq4Z"
      },
      "execution_count": null,
      "outputs": []
    },
    {
      "cell_type": "code",
      "source": [
        "\n",
        "from sklearn.preprocessing import OneHotEncoder  # Import OneHotEncoder\n",
        "\n",
        "# Create a OneHotEncoder to handle categorical features\n",
        "encoder = OneHotEncoder(sparse_output=False, handle_unknown='ignore') # sparse=False for compatibility with SelectFromModel\n",
        "\n",
        "# Identify categorical features (object dtype)\n",
        "categorical_features = X.select_dtypes(include=['object']).columns\n",
        "\n",
        "# Fit and transform the encoder on categorical features\n",
        "encoded_features = encoder.fit_transform(X[categorical_features])\n",
        "\n",
        "# Create a DataFrame from the encoded features\n",
        "encoded_df = pd.DataFrame(encoded_features, columns=encoder.get_feature_names_out(categorical_features))\n",
        "\n",
        "# Drop original categorical features and concatenate encoded features\n",
        "X = X.drop(columns=categorical_features, errors=\"ignore\")\n",
        "X = pd.concat([X, encoded_df], axis=1)\n",
        "\n",
        "# Now proceed with your feature selection and model training:\n",
        "random_forest = RandomForestRegressor(n_estimators=100, random_state=42)\n",
        "select_from_model = SelectFromModel(estimator=random_forest, threshold=\"median\")\n",
        "select_from_model.fit(X, y)  # This should now work without the ValueError\n",
        "\n",
        "# Initialize a RandomForestRegressor\n",
        "random_forest = RandomForestRegressor(n_estimators=100, random_state=42)\n",
        "\n",
        "# Use SelectFromModel for feature selection\n",
        "select_from_model = SelectFromModel(estimator=random_forest, threshold=\"median\")\n",
        "select_from_model.fit(X, y)\n",
        "\n",
        "# Get the selected features\n",
        "selected_features = X.columns[select_from_model.get_support()]\n",
        "\n",
        "# Print the selected features\n",
        "print(\"Selected features by SelectFromModel:\")\n",
        "print(selected_features)\n",
        "\n",
        "# Optionally, create a new dataset with only selected features\n",
        "X_selected = X[selected_features]\n",
        "\n",
        "# Save the dataset with selected features (if needed)\n",
        "X_selected.to_csv(\"selected_features.csv\", index=False)\n"
      ],
      "metadata": {
        "colab": {
          "base_uri": "https://localhost:8080/"
        },
        "id": "Rp2XzRGvX9L4",
        "outputId": "69744215-e320-4eb8-9ec1-b1c421f8a593"
      },
      "execution_count": null,
      "outputs": [
        {
          "output_type": "stream",
          "name": "stdout",
          "text": [
            "Selected features by SelectFromModel:\n",
            "Index(['full_sq', 'life_sq', 'floor', 'build_year', 'num_room', 'kitch_sq',\n",
            "       'area_m', 'indust_part', 'preschool_education_centers_raion',\n",
            "       'children_school',\n",
            "       ...\n",
            "       'cafe_count_5000_na_price', 'cafe_count_5000_price_500',\n",
            "       'cafe_count_5000_price_2500', 'church_count_5000', 'leisure_count_5000',\n",
            "       'sport_count_5000', 'market_count_5000', 'radiation_raion_yes',\n",
            "       'big_market_raion_no', 'ecology_good'],\n",
            "      dtype='object', length=165)\n"
          ]
        }
      ]
    }
  ]
}